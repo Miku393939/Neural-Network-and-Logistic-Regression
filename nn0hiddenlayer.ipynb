{
 "cells": [
  {
   "cell_type": "markdown",
   "metadata": {},
   "source": [
    "## Neural Network\n",
    "## Created by Miku"
   ]
  },
  {
   "cell_type": "code",
   "execution_count": 1,
   "metadata": {
    "collapsed": true
   },
   "outputs": [],
   "source": [
    "import numpy as np    # numpy is the fundamental package for scientific computing with Python, such linear algebra, array...\n",
    "import matplotlib.pyplot as plt      # matplotlib is a Python 2D plotting library which produces publication quality figures."
   ]
  },
  {
   "cell_type": "markdown",
   "metadata": {},
   "source": [
    "## Logistic Regression Model and Neural Network\n"
   ]
  },
  {
   "cell_type": "code",
   "execution_count": 170,
   "metadata": {
    "collapsed": true
   },
   "outputs": [],
   "source": [
    "class LogisticRegression:\n",
    "    \"\"\"\n",
    "    This lab implements a Logistic Regression Classifier.\n",
    "    \"\"\"\n",
    "    #the number of node be set to 20\n",
    "    def __init__(self, input_dim, output_dim, method = 1, node_number = 20):\n",
    "        \"\"\"\n",
    "        Initializes the parameters of the logistic regression classifer to \n",
    "        random values.\n",
    "        \n",
    "        args:\n",
    "            input_dim: Number of dimensions of the input data\n",
    "            output_dim: Number of classes\n",
    "        \"\"\"\n",
    "        #the init become 2 parts:\n",
    "        #the first is to process the input and pass them to the hidden layer\n",
    "        #the second is to process the input from the hidden layer's output and pass them to the output layer\n",
    "        if method == 1:\n",
    "            self.theta = np.random.randn(input_dim, node_number) / np.sqrt(input_dim)\n",
    "            self.bias = np.zeros((1,node_number))\n",
    "            self.theta2 = np.random.randn(node_number, output_dim) / np.sqrt(node_number)\n",
    "            self.bias2 = np.zeros((1, output_dim))\n",
    "        else:\n",
    "            self.theta = np.random.randn(input_dim, output_dim) / np.sqrt(input_dim)       \n",
    "            self.bias = np.zeros((1, output_dim))\n",
    "            \n",
    "    #--------------------------------------------------------------------------\n",
    "    #need to be modified\n",
    "    def compute_cost(self,X, y):\n",
    "        \"\"\"\n",
    "        Computes the total cost on the dataset.\n",
    "        \n",
    "        args:\n",
    "            X: Data array\n",
    "            y: Labels corresponding to input data\n",
    "        \n",
    "        returns:\n",
    "            cost: average cost per data sample\n",
    "        \"\"\"\n",
    "        num_examples = np.shape(X)[0]\n",
    "#       calculate the row number of X\n",
    "        z = np.dot(X,self.theta) + self.bias\n",
    "#       dot product the input\n",
    "        exp_z = np.exp(z)\n",
    "#         softmax_scores = exp_z / np.sum(exp_z, axis=1, keepdims=True)\n",
    "        softmax_scores = exp_z / (exp_z + 1)\n",
    "        \n",
    "        one_hot_y = np.zeros((num_examples,np.max(y)+1))\n",
    "        logloss = np.zeros((num_examples,))        \n",
    "        for i in range(np.shape(X)[0]):\n",
    "            one_hot_y[i,y[i]] = 1\n",
    "            logloss[i] = -np.sum(np.log(softmax_scores[i,:]) * one_hot_y[i,:])\n",
    "        data_loss = np.sum(logloss)\n",
    "        return 1./num_examples * data_loss\n",
    "        \n",
    "    \n",
    "    def compute_cost_NN1hidden(self,X, y):\n",
    "        \"\"\"\n",
    "        Computes the total cost on the dataset.\n",
    "        \n",
    "        args:\n",
    "            X: Data array\n",
    "            y: Labels corresponding to input data\n",
    "        \n",
    "        returns:\n",
    "            cost: average cost per data sample\n",
    "        \"\"\"\n",
    "        num_examples = np.shape(X)[0]\n",
    "        z = np.dot(X,self.theta) + self.bias\n",
    "        exp_z = np.exp(z)\n",
    "        #1 / exp_-z + 1\n",
    "        softmax_scores = exp_z / (exp_z + 1)\n",
    "        z2 = np.dot(softmax_scores,self.theta2) + self.bias2\n",
    "        exp_z2 = np.exp(z2)\n",
    "        softmax_scores = exp_z2 / (exp_z2 + 1)\n",
    "        one_hot_y = np.zeros((num_examples,np.max(y)+1))\n",
    "        logloss = np.zeros((num_examples,))        \n",
    "        for i in range(np.shape(X)[0]):\n",
    "            one_hot_y[i,y[i]] = 1\n",
    "            logloss[i] = -np.sum(np.log(softmax_scores[i,:]) * one_hot_y[i,:])\n",
    "        data_loss = np.sum(logloss)\n",
    "        return 1./num_examples * data_loss\n",
    "    \n",
    "    #--------------------------------------------------------------------------\n",
    "    #need to be modified\n",
    "    def predict(self,X):\n",
    "        \"\"\"\n",
    "        Makes a prediction based on current model parameters.\n",
    "        \n",
    "        args:\n",
    "            X: Data array\n",
    "            \n",
    "        returns:\n",
    "            predictions: array of predicted labels\n",
    "        \"\"\"\n",
    "        z = np.dot(X,self.theta) + self.bias\n",
    "        exp_z = np.exp(z)\n",
    "        softmax_scores = exp_z / (exp_z + 1)\n",
    "        predictions = np.argmax(softmax_scores, axis = 1)\n",
    "        return predictions\n",
    "    \n",
    "    def predict_NN1hidden(self,X):\n",
    "        \"\"\"\n",
    "        Makes a prediction based on current model parameters.\n",
    "        \n",
    "        args:\n",
    "            X: Data array\n",
    "            \n",
    "        returns:\n",
    "            predictions: array of predicted labels\n",
    "        \"\"\"\n",
    "        z = np.dot(X,self.theta) + self.bias\n",
    "        exp_z = np.exp(z)\n",
    "        softmax_scores = exp_z / (exp_z + 1) \n",
    "        z2 = np.dot(softmax_scores,self.theta2) + self.bias2\n",
    "        exp_z2 = np.exp(z2)\n",
    "        softmax_scores2 = exp_z2 / (exp_z2 + 1)\n",
    "        predictions = np.argmax(softmax_scores2, axis = 1)\n",
    "        return predictions\n",
    "    \n",
    "    #--------------------------------------------------------------------------\n",
    "    # TODO: implement logistic regression using gradient descent \n",
    "    #--------------------------------------------------------------------------\n",
    "    def fit(self,X,y,num_epochs,lr=0.01):\n",
    "        for epoch in range(0, num_epochs):\n",
    "\n",
    "            # Forward propagation\n",
    "            z = np.dot(X,self.theta) + self.bias\n",
    "            exp_z = np.exp(z)\n",
    "\n",
    "#           softmax_scores = exp_z / np.sum(exp_z, axis=1, keepdims=True)\n",
    "            softmax_scores = exp_z / (exp_z + 1)\n",
    "        \n",
    "            # Backpropagation\n",
    "            beta = np.zeros_like(softmax_scores)\n",
    "            one_hot_y = np.zeros_like(softmax_scores)\n",
    "            for i in range(X.shape[0]):\n",
    "                one_hot_y[i,y[i]] = 1\n",
    "            beta = softmax_scores - one_hot_y\n",
    "    \n",
    "            # Compute gradients of model parameters\n",
    "            dtheta = np.dot(X.T,beta)\n",
    "            dbias = np.sum(beta, axis=0)\n",
    "    \n",
    "            self.theta -= lr * dtheta\n",
    "            self.bias -= lr * dbias\n",
    "            \n",
    "        return 0\n",
    "    \n",
    "    def fit_NN1hidden(self,X,y,num_epochs,lr):\n",
    "        for epoch in range(0, num_epochs):\n",
    "\n",
    "            # Forward propagation\n",
    "            z = np.dot(X,self.theta) + self.bias\n",
    "            exp_z = np.exp(z)\n",
    "            softmax_scores = exp_z / (exp_z + 1)\n",
    "            z_2 = np.dot(softmax_scores,self.theta2) + self.bias2\n",
    "            exp_z_2 = np.exp(z_2)\n",
    "            softmax_scores2 = exp_z_2 / np.sum(exp_z_2, axis=1, keepdims=True)\n",
    "#             softmax_scores2 = exp_z_2 / (exp_z_2 + 1)\n",
    "            \n",
    "            # Backpropagation\n",
    "            beta_hide = np.zeros_like(softmax_scores2)\n",
    "            one_hot_y = np.zeros_like(softmax_scores2)\n",
    "            for i in range(X.shape[0]):\n",
    "                one_hot_y[i,y[i]] = 1\n",
    "            beta_hide = softmax_scores2 - one_hot_y\n",
    "    \n",
    "            # Compute gradients of model parameters\n",
    "            dtheta_hide = np.dot(softmax_scores.T,beta_hide)\n",
    "            dbias_hide = np.sum(beta_hide, axis=0)\n",
    "    \n",
    "            # Gradient descent parameter update\n",
    "#             self.theta2 -= lr * (dtheta_hide + (self.theta2 * self.theta2) / (input_dim * 2))\n",
    "            self.theta2 -= lr * dtheta_hide\n",
    "            self.theta2 -= lr * dbias_hide\n",
    "            \n",
    "            # Backpropagation\n",
    "            beta = np.zeros_like(softmax_scores)\n",
    "            \n",
    "            #delta2 = (theta2^T·delta3)*g'(z2)\n",
    "            #g'(z2) = g(z2)(1 - g(z2))\n",
    "            beta = np.multiply(np.dot(beta_hide, self.theta2.T), np.multiply(softmax_scores, (1 - softmax_scores)))\n",
    "            \n",
    "    \n",
    "            # Compute gradients of model parameters\n",
    "            dtheta = np.dot(X.T,beta)\n",
    "            dbias = np.sum(beta, axis=0)\n",
    "    \n",
    "            # Gradient descent parameter update\n",
    "#             self.theta -= lr * (dtheta + (self.theta * self.theta)  / (input_dim * 2))\n",
    "            self.theta -= lr * dtheta\n",
    "            self.bias -= lr * dbias\n",
    "        print(np.shape(self.theta2), np.shape(self.theta))  \n",
    "        return 0\n",
    "    \n",
    "\n",
    "\n"
   ]
  },
  {
   "cell_type": "code",
   "execution_count": 171,
   "metadata": {
    "collapsed": true
   },
   "outputs": [],
   "source": [
    "#3 test code\n",
    "# X = np.genfromtxt('DATA/linearX.csv', delimiter=',') \n",
    "# y = np.genfromtxt('DATA/linearY.csv', delimiter=',').astype(np.int64)\n",
    "# input_dim = np.shape(X)[1]\n",
    "# output_dim = np.max(y) + 1\n",
    "\n",
    "# theta1 = np.random.randn(input_dim, output_dim) / np.sqrt(input_dim)\n",
    "# theta2 = np.random.randn(input_dim, output_dim) / np.sqrt(input_dim)\n",
    "\n",
    "# bias1 = np.zeros((1, output_dim))\n",
    "# bias2 = np.zeros((1, output_dim))\n",
    "\n",
    "# z = np.dot(X,theta1) + bias1\n",
    "# z1 = np.sum(z, axis=1, keepdims=True)\n",
    "# exp_z = np.exp(z)\n",
    "# softmax_scores = exp_z / np.sum(exp_z, axis=1, keepdims=True)\n",
    "\n",
    "# beta = np.zeros_like(softmax_scores)\n",
    "# one_hot_y = np.zeros_like(softmax_scores)\n",
    "# for i in range(X.shape[0]):\n",
    "#     one_hot_y[i] = [y[i],y[i]]\n",
    "# beta = softmax_scores - one_hot_y\n",
    "# # a1 = 1 / (exp_z + 1)\n",
    "# # z2 = np.dot(X,theta2) + bias2\n",
    "# # exp_z2 = np.exp(-z2)\n",
    "# # a2 = 1 / (exp_z2 + 1)\n",
    "# predictions = np.argmax(softmax_scores, axis = 1)\n",
    "# print(predictions)"
   ]
  },
  {
   "cell_type": "code",
   "execution_count": 172,
   "metadata": {
    "collapsed": true
   },
   "outputs": [],
   "source": [
    "def plot_decision_boundary(model, X, y):\n",
    "    \"\"\"\n",
    "    Function to print the decision boundary given by model.\n",
    "    \n",
    "    args:\n",
    "        model: model, whose parameters are used to plot the decision boundary.\n",
    "        X: input data\n",
    "        y: input labels\n",
    "    \"\"\"\n",
    "    \n",
    "    x1_array, x2_array = np.meshgrid(np.arange(-4, 4, 0.01), np.arange(-4, 4, 0.01))\n",
    "    grid_coordinates = np.c_[x1_array.ravel(), x2_array.ravel()]\n",
    "    Z = model.predict(grid_coordinates)\n",
    "    Z = Z.reshape(x1_array.shape)\n",
    "    plt.contourf(x1_array, x2_array, Z, cmap=plt.cm.bwr)\n",
    "    plt.scatter(X[:, 0], X[:, 1], c=y, cmap=plt.cm.bwr)\n",
    "    plt.show()"
   ]
  },
  {
   "cell_type": "code",
   "execution_count": 173,
   "metadata": {
    "collapsed": true
   },
   "outputs": [],
   "source": [
    "def plot_decision_boundary_NN(model, X, y):\n",
    "    \"\"\"\n",
    "    Function to print the decision boundary given by model.\n",
    "    \n",
    "    args:\n",
    "        model: model, whose parameters are used to plot the decision boundary.\n",
    "        X: input data\n",
    "        y: input labels\n",
    "    \"\"\"\n",
    "    \n",
    "    x1_array, x2_array = np.meshgrid(np.arange(-4, 4, 0.01), np.arange(-4, 4, 0.01))\n",
    "    grid_coordinates = np.c_[x1_array.ravel(), x2_array.ravel()]\n",
    "    Z = model.predict_NN1hidden(grid_coordinates)\n",
    "    Z = Z.reshape(x1_array.shape)\n",
    "    plt.contourf(x1_array, x2_array, Z, cmap=plt.cm.bwr)\n",
    "    plt.scatter(X[:, 0], X[:, 1], c=y, cmap=plt.cm.bwr)\n",
    "    plt.show()"
   ]
  },
  {
   "cell_type": "markdown",
   "metadata": {},
   "source": [
    "## Initialization"
   ]
  },
  {
   "cell_type": "code",
   "execution_count": 174,
   "metadata": {},
   "outputs": [
    {
     "data": {
      "image/png": "[encoded data removed]",
      "text/plain": [
       "<matplotlib.figure.Figure at 0x1337a7ac8>"
      ]
     },
     "metadata": {},
     "output_type": "display_data"
    }
   ],
   "source": [
    "#1. Load and plot data\n",
    "# X = np.genfromtxt('DATA/linearX.csv', delimiter=',') \n",
    "# y = np.genfromtxt('DATA/linearY.csv', delimiter=',').astype(np.int64)\n",
    "# X = np.genfromtxt('DATA/NONlinearX.csv', delimiter=',') \n",
    "# y = np.genfromtxt('DATA/NONlinearY.csv', delimiter=',').astype(np.int64)\n",
    "X = np.genfromtxt('DATA/Digit_X_train.csv', delimiter=',') \n",
    "y = np.genfromtxt('DATA/Digit_y_train.csv', delimiter=',').astype(np.int64)\n",
    "X_test = np.genfromtxt('DATA/Digit_X_test.csv', delimiter=',') \n",
    "y_test = np.genfromtxt('DATA/Digit_y_test.csv', delimiter=',').astype(np.int64)\n",
    "plt.scatter(X[:,0], X[:,1], c=y, cmap=plt.cm.bwr)\n",
    "plt.show()"
   ]
  },
  {
   "cell_type": "code",
   "execution_count": 181,
   "metadata": {
    "collapsed": true
   },
   "outputs": [],
   "source": [
    "#2. Initialize model\n",
    "input_dim = np.shape(X)[1]\n",
    "output_dim = np.max(y) + 1\n",
    "logreg = LogisticRegression(input_dim, output_dim)"
   ]
  },
  {
   "cell_type": "markdown",
   "metadata": {},
   "source": [
    "## Train Classification Model"
   ]
  },
  {
   "cell_type": "code",
   "execution_count": 182,
   "metadata": {},
   "outputs": [
    {
     "name": "stdout",
     "output_type": "stream",
     "text": [
      "(20, 10) (64, 20)\n"
     ]
    },
    {
     "data": {
      "text/plain": [
       "0"
      ]
     },
     "execution_count": 182,
     "metadata": {},
     "output_type": "execute_result"
    }
   ],
   "source": [
    "#3. Train the model, plot decision boundary after trainning\n",
    "# logreg.fit(X,y,1000,lr=0.01)\n",
    "logreg.fit_NN1hidden(X,y,1000, lr = 0.0001)\n",
    "# plot_decision_boundary(logreg, X, y)\n",
    "# plot_decision_boundary_NN(logreg, X, y)"
   ]
  },
  {
   "cell_type": "markdown",
   "metadata": {},
   "source": [
    "## Model Evaluation"
   ]
  },
  {
   "cell_type": "code",
   "execution_count": 183,
   "metadata": {},
   "outputs": [
    {
     "name": "stdout",
     "output_type": "stream",
     "text": [
      "ACCURACY:  0.8598442714126807\n",
      "CONFUSION MATRIX: \n",
      " [[ 84.   0.   1.   0.   0.   0.   0.   0.   0.   0.]\n",
      " [  0.  67.   0.   0.   0.   1.   1.   0.   6.   0.]\n",
      " [  0.   4.  74.   2.   0.   0.   0.   0.   9.   0.]\n",
      " [  0.   0.   8.  81.   0.   4.   0.   0.   7.   7.]\n",
      " [  1.   4.   0.   0.  85.   1.   0.   1.   2.   0.]\n",
      " [  1.   0.   0.   2.   0.  80.   0.   0.   5.   3.]\n",
      " [  2.   2.   0.   0.   3.   1.  90.   0.   0.   0.]\n",
      " [  0.   0.   0.   2.   4.   0.   0.  87.   2.   3.]\n",
      " [  0.   1.   2.   0.   0.   0.   0.   1.  46.   0.]\n",
      " [  0.  13.   1.   4.   0.   4.   0.   0.  11.  79.]]\n"
     ]
    }
   ],
   "source": [
    "#4. compute accuracy and confusion matrix\n",
    "acc = 0\n",
    "# y_pred = logreg.predict(X)\n",
    "# y_pred = logreg.predict_NN1hidden(X)\n",
    "y_pred = logreg.predict_NN1hidden(X_test)\n",
    "con_mat = np.zeros((output_dim, output_dim))\n",
    "# for i in range(len(y_pred)):\n",
    "#     con_mat[y_pred[i], y[i]] += 1\n",
    "#     if y[i] == y_pred[i]:\n",
    "#         acc += 1\n",
    "for i in range(len(y_pred)):\n",
    "    con_mat[y_pred[i], y_test[i]] += 1\n",
    "    if y_test[i] == y_pred[i]:\n",
    "        acc += 1\n",
    "acc = acc/len(y_pred)\n",
    "print ('ACCURACY: ', acc)\n",
    "print ('CONFUSION MATRIX: \\n', con_mat)"
   ]
  },
  {
   "cell_type": "code",
   "execution_count": 162,
   "metadata": {},
   "outputs": [
    {
     "name": "stdout",
     "output_type": "stream",
     "text": [
      "118.592605706\n"
     ]
    }
   ],
   "source": [
    "#5. compute cost\n",
    "# cost = logreg.compute_cost(X,y)\n",
    "cost = logreg.compute_cost_NN1hidden(X,y)\n",
    "print (cost)"
   ]
  },
  {
   "cell_type": "code",
   "execution_count": null,
   "metadata": {
    "collapsed": true
   },
   "outputs": [],
   "source": []
  },
  {
   "cell_type": "code",
   "execution_count": null,
   "metadata": {
    "collapsed": true
   },
   "outputs": [],
   "source": []
  }
 ],
 "metadata": {
  "kernelspec": {
   "display_name": "Python 3",
   "language": "python",
   "name": "python3"
  },
  "language_info": {
   "codemirror_mode": {
    "name": "ipython",
    "version": 3
   },
   "file_extension": ".py",
   "mimetype": "text/x-python",
   "name": "python",
   "nbconvert_exporter": "python",
   "pygments_lexer": "ipython3",
   "version": "3.6.1"
  }
 },
 "nbformat": 4,
 "nbformat_minor": 2
}
